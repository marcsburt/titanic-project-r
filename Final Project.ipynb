{
 "cells": [
  {
   "cell_type": "markdown",
   "metadata": {},
   "source": [
    "# Titanic Dataset\n",
    "\n",
    "https://www.kaggle.com/c/titanic\n",
    "\n"
   ]
  },
  {
   "cell_type": "markdown",
   "metadata": {},
   "source": [
    "Some analysis in R\n",
    "\n",
    "By: Marc Burt"
   ]
  },
  {
   "cell_type": "markdown",
   "metadata": {},
   "source": [
    "Import libraries and bind the testing and training data.  Here's a good discription of the data set using str()"
   ]
  },
  {
   "cell_type": "code",
   "execution_count": null,
   "metadata": {
    "collapsed": false
   },
   "outputs": [],
   "source": [
    "library('sampling')\n",
    "library('UsingR')\n",
    "library('scales')\n",
    "library('dplyr')\n",
    "library('magrittr')\n",
    "\n",
    "\n",
    "train <- read.csv('/home/marcburt/Documents/School/BU DA/R/Final/train.csv')\n",
    "test <- read.csv('/home/marcburt/Documents/School/BU DA/R/Final/test.csv')\n",
    "\n",
    "\n",
    "#### Combining data\n",
    "data <- bind_rows(train, test)\n",
    "str(data)\n",
    "\n"
   ]
  },
  {
   "cell_type": "markdown",
   "metadata": {},
   "source": [
    "Did more males or females make it out alive?"
   ]
  },
  {
   "cell_type": "code",
   "execution_count": null,
   "metadata": {
    "collapsed": false
   },
   "outputs": [],
   "source": [
    "barplot(table(train$Survived, train$Sex), ylab=\"Passanger #\", col = c(\"blue\", \"red\"))\n",
    "legend(\"topleft\",legend = c(\"Died\",\"Survived\"),fill=c(\"blue\",\"red\"),inset = .05)"
   ]
  },
  {
   "cell_type": "markdown",
   "metadata": {},
   "source": [
    "Did family size affect the outcome of survival?"
   ]
  },
  {
   "cell_type": "code",
   "execution_count": null,
   "metadata": {
    "collapsed": false
   },
   "outputs": [],
   "source": [
    "data$Fsize <- data$SibSp + data$Parch + 1\n",
    "\n",
    "ggplot(data[1:nrow(train),], aes(x = Fsize, fill = factor(Survived)))+\n",
    "\tgeom_bar(stat = 'count', position = 'dodge')"
   ]
  },
  {
   "cell_type": "markdown",
   "metadata": {},
   "source": [
    "Let's take a look at it differently.  If we break the family down into various groups of size and them measure survivability that way, we can see more of a distinction"
   ]
  },
  {
   "cell_type": "code",
   "execution_count": null,
   "metadata": {
    "collapsed": false
   },
   "outputs": [],
   "source": [
    "data$FsizeP[data$Fsize == 1] <- 'single'\n",
    "data$FsizeP[data$Fsize == 2] <- 'couple'\n",
    "data$FsizeP[data$Fsize >= 3 & data$Fsize <=4] <- 'small'\n",
    "data$FsizeP[data$Fsize >= 5] <- 'large'\n",
    "\n",
    "mosaicplot(table(data$FsizeP, data$Survived), main = 'Survival based on family size')"
   ]
  },
  {
   "cell_type": "markdown",
   "metadata": {},
   "source": [
    "Let's take a look at the same but measure it against passenger class."
   ]
  },
  {
   "cell_type": "code",
   "execution_count": null,
   "metadata": {
    "collapsed": false
   },
   "outputs": [],
   "source": [
    "mosaicplot(table(train$Survived,train$Pclass), main=\"Survival by Class\",ylab=\"Class\",xlab=\"Survived\")\n"
   ]
  },
  {
   "cell_type": "markdown",
   "metadata": {},
   "source": [
    "Let's take a look at the cost of tickets and do some sampling here.\n",
    "\n",
    "First -> let's get a summary of the data... how is it broken down\n",
    "\n",
    "Second -> Let's look at a histogram\n",
    "\n",
    "Third -> How does that look as a boxplot with the five nums broken down"
   ]
  },
  {
   "cell_type": "code",
   "execution_count": null,
   "metadata": {
    "collapsed": false
   },
   "outputs": [],
   "source": [
    "#### basic analysis of the fare -> how much did a ticket cost\n",
    "fare <- as.numeric(data$Fare, na.rm = TRUE)\n",
    "summary(fare, na.rm = TRUE)\n",
    "\n",
    "#### Based on summary we see that the distribution is negatively skewed.\n",
    "#We can see that in the following chart\n",
    "hist(fare, ylab=\"Count\", xlab = \"Price\", breaks = 50, col = 'purple')\n",
    "#### Boxplot to show the same.  Number of outliers, the most notable being the person who paid 512 for their ticket\n",
    "boxplot(fare, horizontal = TRUE, xaxt = 'n')\n",
    "axis(side = 1, at = round(fivenum(fare),0), labels = TRUE, las = 2)\n"
   ]
  },
  {
   "cell_type": "raw",
   "metadata": {},
   "source": [
    "I decided on getting rid of the outliers.  I didn't want someone who was very wealthy to run away with my data set\n",
    "\n",
    "# Fun Fact:\n",
    "\n",
    "The Titanic crashed in 1912 and the highest amount paid for a ticket was $ 512.00. Today that ticket would be worth about $12,500.  Guess what, they made it."
   ]
  },
  {
   "cell_type": "code",
   "execution_count": null,
   "metadata": {
    "collapsed": false
   },
   "outputs": [],
   "source": [
    "data[data$Fare > 512, ] \n",
    "\n",
    "\n"
   ]
  },
  {
   "cell_type": "code",
   "execution_count": null,
   "metadata": {
    "collapsed": false
   },
   "outputs": [],
   "source": [
    "remove_outliers <- function(x, na.rm = TRUE) {\n",
    "  qnt <- quantile(x, probs=c(.25, .75), na.rm = na.rm)\n",
    "  H <- 1.5 * IQR(x, na.rm = na.rm)\n",
    "  y <- x\n",
    "  y[x < (qnt[1] - H)] <- NA\n",
    "  y[x > (qnt[2] + H)] <- NA\n",
    "  return(y)\n",
    "}\n",
    "\n",
    "rfare <- remove_outliers(fare)\n",
    "rfare <- na.omit(rfare)\n",
    "head(rfare)\n",
    "summary(rfare, na.rm = TRUE)\n",
    "#### These look much better\n",
    "# Single graphs\n",
    "hist(rfare, ylab=\"Count\", xlab = \"Price\", breaks = 50, col = 'purple')\n",
    "\n",
    "boxplot(rfare, horizontal = TRUE, xaxt = 'n')\n",
    "axis(side = 1, at = round(fivenum(fare),0), labels = TRUE, las = 2)"
   ]
  },
  {
   "cell_type": "markdown",
   "metadata": {},
   "source": [
    "We can see a major difference if we plot them side by side.  The data looks much more normalized this way."
   ]
  },
  {
   "cell_type": "code",
   "execution_count": null,
   "metadata": {
    "collapsed": false
   },
   "outputs": [],
   "source": [
    "par(mfrow = c(2,2))\n",
    "\thist(fare, ylab=\"Count\", xlab = \"Price\", breaks = 25, col = 'purple', main = \"With Outliers\")\n",
    "\tboxplot(fare, horizontal = TRUE, xaxt = 'n', main = 'With Outliers')\n",
    "\t\taxis(side = 1, at = round(fivenum(fare),0), labels = TRUE, las = 2)\n",
    "\n",
    "\thist(rfare, ylab=\"Count\", xlab = \"Price\", breaks = 25, col = 'purple', main = 'Without Outliers')\n",
    "\tboxplot(rfare, horizontal = TRUE, xaxt = 'n', main = 'Without Outliers')\n",
    "\t\taxis(side = 1, at = round(fivenum(rfare),0), labels = TRUE, las = 2)\n"
   ]
  },
  {
   "cell_type": "markdown",
   "metadata": {},
   "source": [
    "I grabbed some samples at various sizes and ploted them against each other.  The central tendancy held true and became more apparant as I used more samples"
   ]
  },
  {
   "cell_type": "code",
   "execution_count": null,
   "metadata": {
    "collapsed": false
   },
   "outputs": [],
   "source": [
    "xbar <- na.omit(rfare)\n",
    "\n",
    "cat(\"Population Distribution Mean = \", mean(rfare, na.rm = TRUE),\" SD = \", sd(rfare, na.rm = TRUE), \"\\n\")\n",
    "\n",
    "par(mfrow = c(2,2))\n",
    "\n",
    "for (size in c(50, 75, 100, 125)) {\n",
    "    for (i in 1:length(xbar)) {\n",
    "\t    xbar[i] <- mean(sample(rfare, size = size, \n",
    "            replace = TRUE))\n",
    "        }\n",
    "    hist(xbar, prob = TRUE, main = paste(\"Sample Size =\" , size), xlim =c(10, 30))\n",
    "\n",
    "    cat(\"Sample Size = \", size, \" Mean = \", mean(xbar, na.rm = TRUE),\n",
    "    \" SD = \", sd(xbar, na.rm = TRUE), \"\\n\")\n",
    "    } \n"
   ]
  },
  {
   "cell_type": "markdown",
   "metadata": {},
   "source": [
    "Here I just wanted to sample the survivability column using Simple Sampling and then Systamtic Sampling.  The 1's survived and the 0's did not survive.  I would say that I was more accurate using random sampling and that makes sense given the nature of the data."
   ]
  },
  {
   "cell_type": "code",
   "execution_count": null,
   "metadata": {
    "collapsed": false
   },
   "outputs": [],
   "source": [
    "#### Sampling on the survival rate\n",
    "\n",
    "#### basic probability of survival\n",
    "train$Survived%>%\n",
    "\ttable\n",
    "train$Survived%>%\n",
    "\ttable%>%\n",
    "\tprop.table"
   ]
  },
  {
   "cell_type": "code",
   "execution_count": null,
   "metadata": {
    "collapsed": false
   },
   "outputs": [],
   "source": [
    "s <- srswor(20, nrow(train))\n",
    "sample <- data[s != 0, ]\n",
    "sample$Survived%>%\n",
    "    table\n",
    "sample$Survived%>%\n",
    "    table%>%\n",
    "    prop.table\n"
   ]
  },
  {
   "cell_type": "code",
   "execution_count": null,
   "metadata": {
    "collapsed": false
   },
   "outputs": [],
   "source": [
    "N <- nrow(train)\n",
    "n <- 20\n",
    "k <- ceiling(N/n)\n",
    "r <- sample(k, 1)\n",
    "\n",
    "s <- seq(r, by=k, length = n)\n",
    "\n",
    "sample.2 <- train[s,]\n",
    "\n",
    "sample.2$Survived%>%\n",
    "    table\n",
    "sample.2$Survived%>%\n",
    "    table%>%\n",
    "    prop.table"
   ]
  },
  {
   "cell_type": "raw",
   "metadata": {},
   "source": [
    "Here I tested the data for different confidence intervals.  I decided on a sample size of 50 and tested 20 samples.  I summarized using the zscore method to show how far 2 standard devations to the left and right would be in terms of the population"
   ]
  },
  {
   "cell_type": "code",
   "execution_count": null,
   "metadata": {
    "collapsed": false
   },
   "outputs": [],
   "source": [
    "### Confidence intervals of data given the amount of the data\n",
    "sample.size <- 50\n",
    "pop.sd <- sd(rfare)\n",
    "sd.sample.means <- pop.sd/sqrt(sample.size)\n",
    "samples <- 20\n",
    "\n",
    "xbar <- numeric(samples)\n",
    "\n",
    "for (i in 1:samples){\n",
    "\tsample.data.1 <- sample(as.numeric(rfare), size = sample.size)\n",
    "\txbar[i] <- mean(sample.data.1)\n",
    "\tstr <- sprintf(\"%2d: xbar = %.2f, CI = %.2f-%.2f\", i, xbar[i], xbar[i] - 2*sd.sample.means,xbar[i] + 2*sd.sample.means)\n",
    "\tcat(str, '\\n')\n",
    "\n",
    "\n",
    "}"
   ]
  },
  {
   "cell_type": "markdown",
   "metadata": {},
   "source": [
    "Now per request, I tested at the 80 and 90 percent confidence intervals. Just to add some flavor to the mix I added some other alphas."
   ]
  },
  {
   "cell_type": "code",
   "execution_count": null,
   "metadata": {
    "collapsed": false
   },
   "outputs": [],
   "source": [
    "#### Confidence Intervals at 80 and 90.\n",
    "\n",
    "conf <- c(75,80,85,90,95)\n",
    "alpha <- 1 - conf/100\n",
    "sample.data <- sample(rfare, size = sample.size)\n",
    "xbar <- mean(sample.data)\n",
    "sd.sample.means <- pop.sd/sqrt(sample.size)\n",
    "\n",
    "\n",
    "for (i in alpha){\n",
    "\tstr <- sprintf(\"%2d%% Conf Level (alpha = %.2f), CI = %.2f-%.2f\", 100*(1-i),i, xbar - qnorm(1-i/2)*sd.sample.means,xbar + qnorm(1-i/2)*sd.sample.means)\n",
    "\tcat(str, '\\n')\n",
    "}\n",
    "\n",
    "\n",
    "\n"
   ]
  },
  {
   "cell_type": "markdown",
   "metadata": {},
   "source": [
    "# Questions?"
   ]
  }
 ],
 "metadata": {
  "kernelspec": {
   "display_name": "R",
   "language": "R",
   "name": "ir"
  },
  "language_info": {
   "codemirror_mode": "r",
   "file_extension": ".r",
   "mimetype": "text/x-r-source",
   "name": "R",
   "pygments_lexer": "r",
   "version": "3.2.3"
  }
 },
 "nbformat": 4,
 "nbformat_minor": 0
}
